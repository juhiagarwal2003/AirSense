{
  "nbformat": 4,
  "nbformat_minor": 0,
  "metadata": {
    "colab": {
      "provenance": []
    },
    "kernelspec": {
      "name": "python3",
      "display_name": "Python 3"
    },
    "language_info": {
      "name": "python"
    }
  },
  "cells": [
    {
      "cell_type": "code",
      "source": [
        "import pandas as pd\n",
        "import numpy as np\n",
        "from sklearn.model_selection import train_test_split\n",
        "from sklearn.preprocessing import StandardScaler\n",
        "from sklearn.linear_model import Ridge, Lasso\n",
        "from sklearn.svm import SVR\n",
        "from sklearn.metrics import r2_score\n",
        "from sklearn.impute import SimpleImputer\n",
        "\n",
        "# Load the dataset\n",
        "file_path = 'AirQualityUCI.xlsx'  # Update the path as per your file location\n",
        "air_quality_data = pd.read_excel(file_path)\n",
        "\n",
        "# Drop the \"Date\" and \"Time\" columns (categorical)\n",
        "air_quality_data_cleaned = air_quality_data.drop(columns=['Date', 'Time'])\n",
        "\n",
        "# Check and handle missing values using mean imputation\n",
        "imputer = SimpleImputer(strategy='mean')\n",
        "air_quality_data_cleaned = pd.DataFrame(imputer.fit_transform(air_quality_data_cleaned), columns=air_quality_data_cleaned.columns)\n",
        "\n",
        "# Defining the independent variables (X) and dependent variable (y)\n",
        "X = air_quality_data_cleaned.drop(columns=['CO(GT)'])  # Independent variables\n",
        "y = air_quality_data_cleaned['CO(GT)']  # Dependent variable\n",
        "\n",
        "# Scale the numerical columns using StandardScaler\n",
        "scaler = StandardScaler()\n",
        "X_scaled = scaler.fit_transform(X)\n",
        "\n",
        "# Split the data into training (80%) and testing sets (20%)\n",
        "X_train, X_test, y_train, y_test = train_test_split(X_scaled, y, test_size=0.2, random_state=42)\n",
        "\n",
        "# Build the Ridge regression model with alpha=12\n",
        "ridge_model = Ridge(alpha=12)\n",
        "ridge_model.fit(X_train, y_train)\n",
        "\n",
        "# Predict and evaluate Ridge model on the test set\n",
        "y_pred_ridge = ridge_model.predict(X_test)\n",
        "ridge_r2_score = r2_score(y_test, y_pred_ridge)\n",
        "print(f'R2 score of Ridge regression: {ridge_r2_score}')\n",
        "\n",
        "# Build the Lasso regression model with alpha=12\n",
        "lasso_model = Lasso(alpha=12)\n",
        "lasso_model.fit(X_train, y_train)\n",
        "\n",
        "# Predict and evaluate Lasso model on the test set\n",
        "y_pred_lasso = lasso_model.predict(X_test)\n",
        "lasso_r2_score = r2_score(y_test, y_pred_lasso)\n",
        "print(f'R2 score of Lasso regression: {lasso_r2_score}')\n",
        "\n",
        "# Build the SVR model\n",
        "svr_model = SVR(kernel='linear')  # You can try different kernels like 'rbf' as well\n",
        "svr_model.fit(X_train, y_train)\n",
        "\n",
        "# Predict and evaluate SVR model on the test set\n",
        "y_pred_svr = svr_model.predict(X_test)\n",
        "svr_r2_score = r2_score(y_test, y_pred_svr)\n",
        "print(f'R2 score of SVR: {svr_r2_score}')\n",
        "\n",
        "# Compare the results of Ridge, Lasso, and SVR models\n",
        "print(f'Comparison - Ridge R2: {ridge_r2_score}, Lasso R2: {lasso_r2_score}, SVR R2: {svr_r2_score}')\n"
      ],
      "metadata": {
        "colab": {
          "base_uri": "https://localhost:8080/"
        },
        "id": "VLhA0oCctPcP",
        "outputId": "93986a9e-2b1e-44af-f29f-fa3223b9ee42"
      },
      "execution_count": null,
      "outputs": [
        {
          "output_type": "stream",
          "name": "stdout",
          "text": [
            "R2 score of Ridge regression: 0.5153759100843001\n",
            "R2 score of Lasso regression: 0.4577715309137489\n",
            "R2 score of SVR: 0.4810361392237197\n",
            "Comparison - Ridge R2: 0.5153759100843001, Lasso R2: 0.4577715309137489, SVR R2: 0.4810361392237197\n"
          ]
        }
      ]
    }
  ]
}